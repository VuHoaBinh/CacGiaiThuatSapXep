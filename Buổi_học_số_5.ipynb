{
  "nbformat": 4,
  "nbformat_minor": 0,
  "metadata": {
    "colab": {
      "provenance": []
    },
    "kernelspec": {
      "name": "python3",
      "display_name": "Python 3"
    },
    "language_info": {
      "name": "python"
    }
  },
  "cells": [
    {
      "cell_type": "code",
      "execution_count": null,
      "metadata": {
        "id": "Edc_Y1rERZP2"
      },
      "outputs": [],
      "source": [
        "# interchange sort\n",
        "def  interchange_sort(a):\n",
        "    for i in range(len(a)):\n",
        "        for j in range(i+1,len(a)):\n",
        "            if a[i]>a[j]:\n",
        "                a[i],a[j]=a[j],a[i]\n",
        "    return a"
      ]
    },
    {
      "cell_type": "code",
      "source": [
        "# bubble sort\n",
        "def bubble_sort(a):\n",
        "    for i in range(len(a)):\n",
        "        for j in range(len(a)-i-1):\n",
        "            if a[j]>a[j+1]:\n",
        "                a[j],a[j+1]=a[j+1],a[j]\n",
        "    return a"
      ],
      "metadata": {
        "id": "xKZ7gDqARjn3"
      },
      "execution_count": null,
      "outputs": []
    },
    {
      "cell_type": "code",
      "source": [
        "# insertion sort\n",
        "def insertion_sort(a):\n",
        "  pos, x = 0\n",
        "  for i in range(1, len(a)):\n",
        "    x = a[i]\n",
        "    pos = i\n",
        "    while pos >=0 and a[pos] > x:\n",
        "      a[pos+1] = a[pos]\n",
        "      pos -= 1\n",
        "    a[pos+1] = x\n",
        "  return a"
      ],
      "metadata": {
        "id": "-gt0E17MRjp1"
      },
      "execution_count": null,
      "outputs": []
    },
    {
      "cell_type": "code",
      "source": [
        "# selection sort\n",
        "def selection_sort(a):\n",
        "  min = 0\n",
        "  for i in range(len(a)):\n",
        "    min = i\n",
        "    for j in range(i+1, len(a)):\n",
        "      if a[j] < a[min]:\n",
        "        min = j\n",
        "    a[i], a[min] = a[min], a[i]\n",
        "  return a"
      ],
      "metadata": {
        "id": "NFqOw74_Rjr2"
      },
      "execution_count": null,
      "outputs": []
    },
    {
      "cell_type": "code",
      "source": [
        "# quick sort\n",
        ""
      ],
      "metadata": {
        "id": "vyNgGvbiRjuE"
      },
      "execution_count": null,
      "outputs": []
    },
    {
      "cell_type": "code",
      "source": [],
      "metadata": {
        "id": "PS5iB4CjRjwK"
      },
      "execution_count": null,
      "outputs": []
    },
    {
      "cell_type": "code",
      "source": [],
      "metadata": {
        "id": "vULISW5xRjyK"
      },
      "execution_count": null,
      "outputs": []
    },
    {
      "cell_type": "code",
      "source": [],
      "metadata": {
        "id": "DgpsxJVlRj0e"
      },
      "execution_count": null,
      "outputs": []
    },
    {
      "cell_type": "code",
      "source": [],
      "metadata": {
        "id": "4uC5rqQRRj2y"
      },
      "execution_count": null,
      "outputs": []
    },
    {
      "cell_type": "code",
      "source": [],
      "metadata": {
        "id": "ZJmg2v4DRj5Z"
      },
      "execution_count": null,
      "outputs": []
    }
  ]
}